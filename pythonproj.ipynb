{
  "nbformat": 4,
  "nbformat_minor": 0,
  "metadata": {
    "colab": {
      "provenance": [],
      "authorship_tag": "ABX9TyNQu1JptNFRuEG6D2fuLnfu",
      "include_colab_link": true
    },
    "kernelspec": {
      "name": "python3",
      "display_name": "Python 3"
    },
    "language_info": {
      "name": "python"
    }
  },
  "cells": [
    {
      "cell_type": "markdown",
      "metadata": {
        "id": "view-in-github",
        "colab_type": "text"
      },
      "source": [
        "<a href=\"https://colab.research.google.com/github/Meghraj9122773080/Meghraj9122773080/blob/main/pythonproj.ipynb\" target=\"_parent\"><img src=\"https://colab.research.google.com/assets/colab-badge.svg\" alt=\"Open In Colab\"/></a>"
      ]
    },
    {
      "cell_type": "markdown",
      "source": [
        "# **1. Reverse the Word Problem**"
      ],
      "metadata": {
        "id": "wHG03oHCGobn"
      }
    },
    {
      "cell_type": "code",
      "source": [
        "word = input(\"Enter a word: \")\n",
        "print(word[::-1])\n"
      ],
      "metadata": {
        "colab": {
          "base_uri": "https://localhost:8080/"
        },
        "id": "KjNi2Mj9FtES",
        "outputId": "5b70c44f-1466-41b9-8ab3-3ddd548cb07a"
      },
      "execution_count": 4,
      "outputs": [
        {
          "output_type": "stream",
          "name": "stdout",
          "text": [
            "Enter a word: python\n",
            "nohtyp\n"
          ]
        }
      ]
    },
    {
      "cell_type": "markdown",
      "source": [
        "# **2. List Filter: Keep Only Even Numbers**"
      ],
      "metadata": {
        "id": "3Fx9ZYROGnjY"
      }
    },
    {
      "cell_type": "code",
      "source": [
        "nums = [int(x) for x in input(\"Enter numbers separated by commas: \").split(\",\")]\n",
        "evens = [num for num in nums if num % 2 == 0]\n",
        "print(evens)\n"
      ],
      "metadata": {
        "colab": {
          "base_uri": "https://localhost:8080/"
        },
        "id": "2ohCIfCNFtBP",
        "outputId": "22d925fe-bd99-4aff-fc1b-fecaad835c1a"
      },
      "execution_count": 5,
      "outputs": [
        {
          "output_type": "stream",
          "name": "stdout",
          "text": [
            "Enter numbers separated by commas: 7,9,16,18,28,37\n",
            "[16, 18, 28]\n"
          ]
        }
      ]
    },
    {
      "cell_type": "markdown",
      "source": [
        "# **3. Count Vowels in a String**"
      ],
      "metadata": {
        "id": "YDxIy5s_G7bJ"
      }
    },
    {
      "cell_type": "code",
      "source": [
        "s = input(\"Enter a string: \")\n",
        "count = sum(1 for ch in s if ch in \"aeiouAEIOU\")\n",
        "print(count)\n"
      ],
      "metadata": {
        "id": "vzU9z2IDFs_k"
      },
      "execution_count": 5,
      "outputs": []
    },
    {
      "cell_type": "markdown",
      "source": [
        "# **4. Middle Elements**"
      ],
      "metadata": {
        "id": "4Iq40AfzMPZG"
      }
    },
    {
      "cell_type": "code",
      "source": [
        "lst = [int(x) for x in input(\"Enter elements separated by commas: \").split(\",\")]\n",
        "n = len(lst)\n",
        "if n % 2 == 1:\n",
        "    print(lst[n // 2])\n",
        "else:\n",
        "    print((lst[n // 2 - 1], lst[n // 2]))\n"
      ],
      "metadata": {
        "id": "9WWLZjIPFs6u"
      },
      "execution_count": 5,
      "outputs": []
    },
    {
      "cell_type": "markdown",
      "source": [
        "# **5. Alternating Sign List**"
      ],
      "metadata": {
        "id": "kPDxNS6XNmlC"
      }
    },
    {
      "cell_type": "code",
      "source": [
        "nums = [int(x) for x in input(\"Enter numbers separated by commas: \").split(\",\")]\n",
        "alt = [(-num if i % 2 == 0 else num) for i, num in enumerate(nums)]\n",
        "print(alt)\n"
      ],
      "metadata": {
        "id": "lle2HWJqFs4O"
      },
      "execution_count": 5,
      "outputs": []
    },
    {
      "cell_type": "markdown",
      "source": [
        "# **6. Number Ladder**"
      ],
      "metadata": {
        "id": "obWth3AaN3lL"
      }
    },
    {
      "cell_type": "code",
      "source": [
        "n = int(input(\"Enter the value of n: \"))\n",
        "counter = 1\n",
        "for i in range(1, n + 1):\n",
        "    for j in range(i):\n",
        "        print(counter, end=\"\")\n",
        "        counter += 1\n",
        "    print()\n"
      ],
      "metadata": {
        "id": "nU6wcjEvN3Gs"
      },
      "execution_count": null,
      "outputs": []
    },
    {
      "cell_type": "markdown",
      "source": [
        "# **7. Password Strength Judge**"
      ],
      "metadata": {
        "id": "zZDM4ifcOQMJ"
      }
    },
    {
      "cell_type": "code",
      "source": [
        "import string\n",
        "\n",
        "password = input(\"Enter your password: \")\n",
        "if len(password) < 6:\n",
        "    print(\"Weak\")\n",
        "elif password.isalpha() or password.isdigit():\n",
        "    print(\"Moderate\")\n",
        "elif any(c.isalpha() for c in password) and any(c.isdigit() for c in password) and len(password) >= 8:\n",
        "    print(\"Strong\")\n",
        "else:\n",
        "    print(\"Moderate\")\n"
      ],
      "metadata": {
        "id": "tl5HYhbWOMp1"
      },
      "execution_count": null,
      "outputs": []
    },
    {
      "cell_type": "markdown",
      "source": [
        "# **8. Spy Number**"
      ],
      "metadata": {
        "id": "yVK9EF_eOkta"
      }
    },
    {
      "cell_type": "code",
      "source": [
        "num = int(input(\"Enter a number: \"))\n",
        "s = p = 0\n",
        "tmp = num\n",
        "p = 1\n",
        "while tmp > 0:\n",
        "    digit = tmp % 10\n",
        "    s += digit\n",
        "    p *= digit\n",
        "    tmp //= 10\n",
        "print(\"Spy Number\" if s == p else \"Not a Spy Number\")\n"
      ],
      "metadata": {
        "id": "N63CFXIXOMnq"
      },
      "execution_count": null,
      "outputs": []
    },
    {
      "cell_type": "markdown",
      "source": [
        "# **9. Alien Language Translator**"
      ],
      "metadata": {
        "id": "d8_5KsZkOuYc"
      }
    },
    {
      "cell_type": "code",
      "source": [
        "word = input(\"Enter a word: \")\n",
        "alien = \"\".join(ch for i, ch in enumerate(word) if i % 2 == 0)\n",
        "print(alien)\n"
      ],
      "metadata": {
        "id": "863OryFEOMki"
      },
      "execution_count": null,
      "outputs": []
    },
    {
      "cell_type": "markdown",
      "source": [
        "# **10. Magic Multiples**"
      ],
      "metadata": {
        "id": "fMz9-qw_PACb"
      }
    },
    {
      "cell_type": "code",
      "source": [
        "n = int(input(\"Enter the limit n: \"))\n",
        "for i in range(1, n + 1):\n",
        "    if i % 4 == 0 and i % 6 == 0:\n",
        "        print(\"BoomBang\")\n",
        "    elif i % 4 == 0:\n",
        "        print(\"Boom\")\n",
        "    elif i % 6 == 0:\n",
        "        print(\"Bang\")\n",
        "    else:\n",
        "        print(i)\n"
      ],
      "metadata": {
        "id": "YjewybA4OMhZ"
      },
      "execution_count": null,
      "outputs": []
    },
    {
      "cell_type": "code",
      "source": [],
      "metadata": {
        "id": "wbLVdmCBOMfQ"
      },
      "execution_count": null,
      "outputs": []
    },
    {
      "cell_type": "code",
      "source": [],
      "metadata": {
        "id": "CSkpmRs8OMb8"
      },
      "execution_count": null,
      "outputs": []
    },
    {
      "cell_type": "code",
      "source": [],
      "metadata": {
        "id": "-H5ht6lnOMaE"
      },
      "execution_count": null,
      "outputs": []
    },
    {
      "cell_type": "code",
      "source": [],
      "metadata": {
        "id": "aJHwAoJ_OMW7"
      },
      "execution_count": null,
      "outputs": []
    },
    {
      "cell_type": "code",
      "source": [],
      "metadata": {
        "id": "nBqrGWLzOMUn"
      },
      "execution_count": null,
      "outputs": []
    },
    {
      "cell_type": "code",
      "source": [],
      "metadata": {
        "id": "OKQHFkUFOMO-"
      },
      "execution_count": null,
      "outputs": []
    },
    {
      "cell_type": "code",
      "source": [],
      "metadata": {
        "id": "uLhbxqI8OMMH"
      },
      "execution_count": null,
      "outputs": []
    },
    {
      "cell_type": "code",
      "source": [],
      "metadata": {
        "id": "RayWPlV0FsqO"
      },
      "execution_count": 5,
      "outputs": []
    },
    {
      "cell_type": "code",
      "source": [],
      "metadata": {
        "id": "DpbK0UH4FsnQ"
      },
      "execution_count": 5,
      "outputs": []
    },
    {
      "cell_type": "code",
      "source": [],
      "metadata": {
        "id": "xplOMXToFsj8"
      },
      "execution_count": 5,
      "outputs": []
    },
    {
      "cell_type": "code",
      "source": [],
      "metadata": {
        "id": "7ioqqrEyFsh6"
      },
      "execution_count": 5,
      "outputs": []
    },
    {
      "cell_type": "code",
      "source": [],
      "metadata": {
        "id": "f9qBhKGWFsef"
      },
      "execution_count": 5,
      "outputs": []
    },
    {
      "cell_type": "code",
      "source": [],
      "metadata": {
        "id": "-dBB50ISFsb2"
      },
      "execution_count": 5,
      "outputs": []
    }
  ]
}